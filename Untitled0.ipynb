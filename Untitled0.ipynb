{
  "nbformat": 4,
  "nbformat_minor": 0,
  "metadata": {
    "colab": {
      "name": "Untitled0.ipynb",
      "provenance": [],
      "authorship_tag": "ABX9TyOuWGLn2Bhwh+hdzjPOmb81",
      "include_colab_link": true
    },
    "kernelspec": {
      "name": "python3",
      "display_name": "Python 3"
    }
  },
  "cells": [
    {
      "cell_type": "markdown",
      "metadata": {
        "id": "view-in-github",
        "colab_type": "text"
      },
      "source": [
        "<a href=\"https://colab.research.google.com/github/kim-hakyeong/hakyeong/blob/master/Untitled0.ipynb\" target=\"_parent\"><img src=\"https://colab.research.google.com/assets/colab-badge.svg\" alt=\"Open In Colab\"/></a>"
      ]
    },
    {
      "cell_type": "markdown",
      "metadata": {
        "id": "fjU1VWMtRbkr",
        "colab_type": "text"
      },
      "source": [
        ""
      ]
    },
    {
      "cell_type": "markdown",
      "metadata": {
        "id": "mcuy1OiCPxPN",
        "colab_type": "text"
      },
      "source": [
        "#인공지능 사관학교 프리코스 과제 목차\n",
        "#1주차 과제 (2020. 06. 02)\n",
        "\n",
        " **인공지능이 가장 보편적으로 쓰이는 4 가지 분야의 제품 및 서비스를 알아보자**\n",
        "\n",
        " * **음성**\n",
        "  * siri\n",
        "\n",
        "* **이미지**\n",
        "   * 구글 이미지 인식\n",
        "   * [google](https://www.google.co.kr/imghp?hl=ko)\n",
        "\n",
        "\n",
        "* **언어**\n",
        " * papago\n",
        " * [naver](https://papago.naver.com/)\n",
        "\n",
        "\n",
        "* **자율주행**\n",
        " * 구글 웨이모\n",
        "\n",
        "-----------------------------------------------------------------------------\n",
        "\n",
        "\n",
        "__많은 제품과 서비스들 중 위의 네 가지를 선정하게 된 이유__\n",
        "\n",
        "1,2,3 번은 내가 가장 처음으로 접하게 된 서비스와 제품, 그리고 현재까지도 자주 사용하고 있으며 편리하다 느껴 사용하고 있는 것들을 선발하였다. 하지만 자율주행은 면허와 차가 없는 관계로 검색을 통해 어떤 서비스들이 있는지 보게 되었고, 그중 가장 뛰어나다는 구글의 웨이모를 선택하게 되었다."
      ]
    }
  ]
}